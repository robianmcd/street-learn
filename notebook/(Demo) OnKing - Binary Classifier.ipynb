{
 "cells": [
  {
   "cell_type": "code",
   "execution_count": null,
   "metadata": {
    "scrolled": false
   },
   "outputs": [],
   "source": [
    "import pandas as pd\n",
    "import matplotlib.pyplot as plt\n",
    "from keras.models import Sequential\n",
    "from keras.layers import Dense\n",
    "from keras.wrappers.scikit_learn import KerasClassifier\n",
    "from sklearn.model_selection import cross_val_score\n",
    "from sklearn.model_selection import StratifiedKFold\n",
    "import numpy as np\n",
    "import random\n",
    "from ipyleaflet import Map, Circle\n",
    "import seaborn as sns\n",
    "sns.set()\n",
    "from IPython.display import display\n",
    "\n",
    "# # Generate more data\n",
    "# for index, row in df.iterrows():\n",
    "#     for i in range(4):\n",
    "#         df.loc[len(df)] = [\n",
    "#             row['lat'] + random.uniform(-2/100000, 2/100000),\n",
    "#             row['lng'] + random.uniform(-2/100000, 2/100000),\n",
    "#             row['heading'] + random.uniform(-1, 1),\n",
    "#             row['isMatch']\n",
    "#         ]\n",
    "# norm_df = (df - df.min()) / (df.max() - df.min())"
   ]
  },
  {
   "cell_type": "markdown",
   "metadata": {},
   "source": [
    "# Prepare the Data"
   ]
  },
  {
   "cell_type": "code",
   "execution_count": null,
   "metadata": {},
   "outputs": [],
   "source": [
    "df = pd.read_csv('places-small.csv')\n",
    "#shuffel the places\n",
    "df = df.sample(frac=1).reset_index(drop=True)\n",
    "\n",
    "inputMatrix = df[['lat', 'lng', 'heading']].as_matrix()\n",
    "target = df['isMatch'].as_matrix()\n",
    "\n",
    "df"
   ]
  },
  {
   "cell_type": "markdown",
   "metadata": {},
   "source": [
    "# Visualize the Data"
   ]
  },
  {
   "cell_type": "code",
   "execution_count": null,
   "metadata": {
    "collapsed": true,
    "scrolled": true
   },
   "outputs": [],
   "source": [
    "df.hist()\n",
    "plt.show()\n",
    "\n",
    "map = Map(center=[df.lat.mean(), df.lng.mean()], zoom=17)\n",
    "\n",
    "def addPoint(map, lat, lng, isMatch, predicted_match=None):\n",
    "    if not (predicted_match is None) and predicted_match != isMatch:\n",
    "        color = '#f44'\n",
    "    else:\n",
    "        color = '#44F' if isMatch else '#999'\n",
    "    map.add_layer(Circle(location=[lat, lng], radius=8, color=color, opacity=.7, fill_opacity=.7, fill_color=color))\n",
    "\n",
    "for index, row in df.iterrows():\n",
    "    addPoint(map, lat=row.lat, lng=row.lng, isMatch=row.isMatch)\n",
    "\n",
    "map"
   ]
  },
  {
   "cell_type": "markdown",
   "metadata": {},
   "source": [
    "# Train the Model\n",
    "### Sigmoid Activation Function\n",
    "![python-trends](img/sigmoid.png)"
   ]
  },
  {
   "cell_type": "code",
   "execution_count": null,
   "metadata": {
    "collapsed": true
   },
   "outputs": [],
   "source": [
    "def get_model():\n",
    "    model = Sequential()\n",
    "    model.add(Dense(30, input_dim=len(inputMatrix[0]), activation='relu'))\n",
    "    model.add(Dense(30, activation='relu'))\n",
    "    model.add(Dense(30, activation='relu'))\n",
    "    model.add(Dense(30, activation='relu'))\n",
    "    model.add(Dense(1, activation='sigmoid'))\n",
    "\n",
    "    model.compile(loss='binary_crossentropy', optimizer='adam', metrics=['accuracy'])\n",
    "\n",
    "    return model"
   ]
  },
  {
   "cell_type": "code",
   "execution_count": null,
   "metadata": {
    "collapsed": true,
    "scrolled": true
   },
   "outputs": [],
   "source": [
    "model = get_model()\n",
    "\n",
    "training_data = model.fit(inputMatrix, target, validation_split=0.5, epochs=300, batch_size=10, verbose=False)\n",
    "\n",
    "fig, axis = plt.subplots(1,2)\n",
    "fig.set_size_inches(14, 4.5)\n",
    "axis[0].plot(training_data.history['val_loss'], 'g', training_data.history['loss'], 'r')\n",
    "axis[0].set_xlabel('Epochs')\n",
    "axis[0].set_ylabel('Loss')\n",
    "axis[1].plot(training_data.history['val_acc'], 'g', training_data.history['acc'], 'r')\n",
    "axis[1].set_xlabel('Epochs')\n",
    "axis[1].set_ylabel('Accuracy')\n",
    "plt.show()\n",
    "\n",
    "print('Accuracy: %.2f%%' % (training_data.history['val_acc'][-1]*100))"
   ]
  },
  {
   "cell_type": "markdown",
   "metadata": {},
   "source": [
    "# Visualize the Model"
   ]
  },
  {
   "cell_type": "code",
   "execution_count": null,
   "metadata": {
    "collapsed": true
   },
   "outputs": [],
   "source": [
    "map = Map(center=[df.lat.mean(), df.lng.mean()], zoom=17)\n",
    "\n",
    "for index, input_row in enumerate(inputMatrix):\n",
    "    predicted_match = model.predict(np.array([input_row])) > 0.5;\n",
    "    raw_row = df.loc[index]\n",
    "    addPoint(map, lat=raw_row.lat, lng=raw_row.lng, isMatch=raw_row.isMatch, predicted_match=predicted_match)\n",
    "\n",
    "map"
   ]
  }
 ],
 "metadata": {
  "kernelspec": {
   "display_name": "Python 3",
   "language": "python",
   "name": "python3"
  },
  "language_info": {
   "codemirror_mode": {
    "name": "ipython",
    "version": 3
   },
   "file_extension": ".py",
   "mimetype": "text/x-python",
   "name": "python",
   "nbconvert_exporter": "python",
   "pygments_lexer": "ipython3",
   "version": "3.5.2"
  }
 },
 "nbformat": 4,
 "nbformat_minor": 1
}
