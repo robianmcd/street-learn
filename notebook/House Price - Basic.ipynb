{
 "cells": [
  {
   "cell_type": "code",
   "execution_count": 1,
   "metadata": {},
   "outputs": [
    {
     "name": "stderr",
     "output_type": "stream",
     "text": [
      "Using TensorFlow backend.\n"
     ]
    }
   ],
   "source": [
    "###############################################################################\n",
    "# Imports\n",
    "###############################################################################\n",
    "\n",
    "import matplotlib.pyplot as plt\n",
    "from keras.models import Sequential\n",
    "from keras.layers import Dense\n",
    "import numpy as np"
   ]
  },
  {
   "cell_type": "code",
   "execution_count": 2,
   "metadata": {
    "collapsed": true,
    "scrolled": true
   },
   "outputs": [],
   "source": [
    "###############################################################################\n",
    "# Data\n",
    "###############################################################################\n",
    "\n",
    "houses = np.array([\n",
    "    [.4, 1.0],\n",
    "    [.3, .7],\n",
    "    [.5, .3],\n",
    "    [.2, .0],\n",
    "    [.7, 1.8],\n",
    "    [.5, .6],\n",
    "    [.4, .0],\n",
    "    [.3, .0],\n",
    "    [.5, .3],\n",
    "    [.3, .7],\n",
    "    [.5, 1.0],\n",
    "    [.4, .7],\n",
    "    [.6, .3],\n",
    "    [.3, .0],\n",
    "    [.8, 1.8],\n",
    "    [.6, .6],\n",
    "    [.5, .0],\n",
    "    [.4, .0],\n",
    "    [.6, .3],\n",
    "    [.4, .7]\n",
    "])\n",
    "\n",
    "prices = np.array([\n",
    "    0.198,\n",
    "    0.160,\n",
    "    0.436,\n",
    "    0.306,\n",
    "    0.344,\n",
    "    0.376,\n",
    "    0.597,\n",
    "    0.446,\n",
    "    0.441,\n",
    "    0.150,\n",
    "    0.293,\n",
    "    0.270,\n",
    "    0.532,\n",
    "    0.457,\n",
    "    0.444,\n",
    "    0.476,\n",
    "    0.747,\n",
    "    0.596,\n",
    "    0.541,\n",
    "    0.250\n",
    "])"
   ]
  },
  {
   "cell_type": "code",
   "execution_count": 3,
   "metadata": {
    "scrolled": true
   },
   "outputs": [
    {
     "name": "stdout",
     "output_type": "stream",
     "text": [
      "Average loss: $42792.8715944\n"
     ]
    }
   ],
   "source": [
    "###############################################################################\n",
    "## Create Network\n",
    "###############################################################################\n",
    "\n",
    "# 1. Network topology\n",
    "# - Input layer: 2 nodes (rooms, age)\n",
    "# - Hidden Layer: 2 nodes with relu activation\n",
    "# - Output Layer: 1 node (price)\n",
    "model = Sequential();\n",
    "model.add(Dense(20, activation='relu', input_dim=2))\n",
    "model.add(Dense(1))\n",
    "\n",
    "# 2. Configure\n",
    "# - Optimization Algorithm: adam\n",
    "# - Loss Function: mean_absolute_error\n",
    "model.compile(optimizer='adam', loss='mean_absolute_error')\n",
    "\n",
    "\n",
    "###############################################################################\n",
    "# Train Network\n",
    "###############################################################################\n",
    "\n",
    "# 1. fit the data\n",
    "# - configure epochs\n",
    "train_data = model.fit(houses, prices, epochs=200, verbose=False)\n",
    "\n",
    "# 2. print the accuracy\n",
    "print('Average loss: $' + str(train_data.history['loss'][-1] * 1000000))"
   ]
  },
  {
   "cell_type": "code",
   "execution_count": 4,
   "metadata": {
    "collapsed": true,
    "scrolled": true
   },
   "outputs": [],
   "source": [
    "###############################################################################\n",
    "# Make Predictions\n",
    "###############################################################################\n",
    "p = model.predict(houses)[:,0]"
   ]
  },
  {
   "cell_type": "code",
   "execution_count": 5,
   "metadata": {},
   "outputs": [
    {
     "data": {
      "image/png": "[encoded data removed]",
      "text/plain": [
       "<matplotlib.figure.Figure at 0x22158efcb70>"
      ]
     },
     "metadata": {},
     "output_type": "display_data"
    }
   ],
   "source": [
    "###############################################################################\n",
    "# Visualize results\n",
    "###############################################################################\n",
    "\n",
    "# 1. Plot predictions against actual results\n",
    "plt.bar(range(20), prices, width=0.3)\n",
    "plt.bar([x + 0.3 for x in range(20)], p, width=0.3)\n",
    "plt.show()"
   ]
  },
  {
   "cell_type": "code",
   "execution_count": 6,
   "metadata": {},
   "outputs": [
    {
     "data": {
      "image/png": "[encoded data removed]",
      "text/plain": [
       "<matplotlib.figure.Figure at 0x22158efcbe0>"
      ]
     },
     "metadata": {},
     "output_type": "display_data"
    }
   ],
   "source": [
    "# 2. Plot predictions against actual results\n",
    "error = np.absolute(p - prices)\n",
    "plt.bar(range(20), prices, yerr=error)\n",
    "plt.show()"
   ]
  }
 ],
 "metadata": {
  "kernelspec": {
   "display_name": "Python 3",
   "language": "python",
   "name": "python3"
  },
  "language_info": {
   "codemirror_mode": {
    "name": "ipython",
    "version": 3
   },
   "file_extension": ".py",
   "mimetype": "text/x-python",
   "name": "python",
   "nbconvert_exporter": "python",
   "pygments_lexer": "ipython3",
   "version": "3.5.2"
  }
 },
 "nbformat": 4,
 "nbformat_minor": 2
}
