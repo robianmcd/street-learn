{
 "cells": [
  {
   "cell_type": "markdown",
   "metadata": {},
   "source": [
    "# Python Features and Libraries\n",
    "\n",
    "## Why Python?\n",
    " - Flexible/simple syntax good for fast prototyping\n",
    " - Fast...\n",
    "   - Libraries offload heavy lifting to C/C++ or the GPU\n",
    " - Huge machine learning community and ecosystem\n",
    " - Fastest growing major language\n",
    " - So hot right now\n",
    "![title](img/python-trends.png)"
   ]
  },
  {
   "cell_type": "markdown",
   "metadata": {},
   "source": [
    "## NumPy\n",
    " - multidimensional array\n",
    " - "
   ]
  },
  {
   "cell_type": "code",
   "execution_count": null,
   "metadata": {
    "collapsed": true
   },
   "outputs": [],
   "source": [
    "###############################################################################\n",
    "## Lists\n",
    "###############################################################################\n",
    "# -access elements\n",
    "# -list comprehensions\n",
    "\n",
    "\n",
    "###############################################################################\n",
    "## NumPy\n",
    "###############################################################################\n",
    "# \n",
    "# -multi dimentional array access\n",
    "# -vector addition, multiplication etc\n",
    "# \n",
    "\n",
    "###############################################################################\n",
    "## Mat Plot Lib\n",
    "###############################################################################\n",
    "\n",
    "\n",
    "###############################################################################\n",
    "## Pandas\n",
    "###############################################################################"
   ]
  }
 ],
 "metadata": {
  "kernelspec": {
   "display_name": "Python 3",
   "language": "python",
   "name": "python3"
  },
  "language_info": {
   "codemirror_mode": {
    "name": "ipython",
    "version": 3
   },
   "file_extension": ".py",
   "mimetype": "text/x-python",
   "name": "python",
   "nbconvert_exporter": "python",
   "pygments_lexer": "ipython3",
   "version": "3.5.2"
  }
 },
 "nbformat": 4,
 "nbformat_minor": 2
}
