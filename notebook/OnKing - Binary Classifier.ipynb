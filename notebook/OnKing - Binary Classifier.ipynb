{
 "cells": [
  {
   "cell_type": "code",
   "execution_count": 1,
   "metadata": {
    "scrolled": false
   },
   "outputs": [
    {
     "name": "stderr",
     "output_type": "stream",
     "text": [
      "Using TensorFlow backend.\n"
     ]
    }
   ],
   "source": [
    "import os\n",
    "os.environ['TF_CPP_MIN_LOG_LEVEL']='2'\n",
    "import pandas as pd\n",
    "import matplotlib.pyplot as plt\n",
    "from keras.models import Sequential\n",
    "from keras.layers import Dense\n",
    "from keras.wrappers.scikit_learn import KerasClassifier\n",
    "from sklearn.model_selection import cross_val_score\n",
    "from sklearn.model_selection import StratifiedKFold\n",
    "import numpy as np\n",
    "import random\n",
    "from ipyleaflet import Map, Circle\n",
    "import seaborn as sns\n",
    "sns.set()\n",
    "from IPython.display import display"
   ]
  },
  {
   "cell_type": "code",
   "execution_count": 3,
   "metadata": {
    "collapsed": true
   },
   "outputs": [],
   "source": [
    "def min_max_normalize(series):\n",
    "    return (series - series.min()) / (series.max()-series.min())\n",
    "\n",
    "def addPoint(map, lat, lng, isMatch, predicted_match=None):\n",
    "    if not (predicted_match is None) and predicted_match != isMatch:\n",
    "        color = '#f44'\n",
    "    else:\n",
    "        color = '#44F' if isMatch else '#999'\n",
    "        \n",
    "    map.add_layer(Circle(location=[lat, lng], radius=8, color=color, opacity=.7, fill_opacity=.7, fill_color=color))"
   ]
  },
  {
   "cell_type": "markdown",
   "metadata": {},
   "source": [
    "# Prepare the Data"
   ]
  },
  {
   "cell_type": "code",
   "execution_count": 10,
   "metadata": {
    "scrolled": false
   },
   "outputs": [
    {
     "data": {
      "text/html": [
       "<div>\n",
       "<style>\n",
       "    .dataframe thead tr:only-child th {\n",
       "        text-align: right;\n",
       "    }\n",
       "\n",
       "    .dataframe thead th {\n",
       "        text-align: left;\n",
       "    }\n",
       "\n",
       "    .dataframe tbody tr th {\n",
       "        vertical-align: top;\n",
       "    }\n",
       "</style>\n",
       "<table border=\"1\" class=\"dataframe\">\n",
       "  <thead>\n",
       "    <tr style=\"text-align: right;\">\n",
       "      <th></th>\n",
       "      <th>lat</th>\n",
       "      <th>lng</th>\n",
       "      <th>heading</th>\n",
       "      <th>isMatch</th>\n",
       "    </tr>\n",
       "  </thead>\n",
       "  <tbody>\n",
       "    <tr>\n",
       "      <th>count</th>\n",
       "      <td>167.000000</td>\n",
       "      <td>167.000000</td>\n",
       "      <td>167.000000</td>\n",
       "      <td>167.000000</td>\n",
       "    </tr>\n",
       "    <tr>\n",
       "      <th>mean</th>\n",
       "      <td>0.562436</td>\n",
       "      <td>0.508188</td>\n",
       "      <td>0.255711</td>\n",
       "      <td>0.227545</td>\n",
       "    </tr>\n",
       "    <tr>\n",
       "      <th>std</th>\n",
       "      <td>0.276931</td>\n",
       "      <td>0.286461</td>\n",
       "      <td>0.308861</td>\n",
       "      <td>0.420508</td>\n",
       "    </tr>\n",
       "    <tr>\n",
       "      <th>min</th>\n",
       "      <td>0.000000</td>\n",
       "      <td>0.000000</td>\n",
       "      <td>0.000000</td>\n",
       "      <td>0.000000</td>\n",
       "    </tr>\n",
       "    <tr>\n",
       "      <th>25%</th>\n",
       "      <td>0.332711</td>\n",
       "      <td>0.271068</td>\n",
       "      <td>0.102099</td>\n",
       "      <td>0.000000</td>\n",
       "    </tr>\n",
       "    <tr>\n",
       "      <th>50%</th>\n",
       "      <td>0.580796</td>\n",
       "      <td>0.464653</td>\n",
       "      <td>0.145865</td>\n",
       "      <td>0.000000</td>\n",
       "    </tr>\n",
       "    <tr>\n",
       "      <th>75%</th>\n",
       "      <td>0.793114</td>\n",
       "      <td>0.759367</td>\n",
       "      <td>0.221285</td>\n",
       "      <td>0.000000</td>\n",
       "    </tr>\n",
       "    <tr>\n",
       "      <th>max</th>\n",
       "      <td>1.000000</td>\n",
       "      <td>1.000000</td>\n",
       "      <td>1.000000</td>\n",
       "      <td>1.000000</td>\n",
       "    </tr>\n",
       "  </tbody>\n",
       "</table>\n",
       "</div>"
      ],
      "text/plain": [
       "              lat         lng     heading     isMatch\n",
       "count  167.000000  167.000000  167.000000  167.000000\n",
       "mean     0.562436    0.508188    0.255711    0.227545\n",
       "std      0.276931    0.286461    0.308861    0.420508\n",
       "min      0.000000    0.000000    0.000000    0.000000\n",
       "25%      0.332711    0.271068    0.102099    0.000000\n",
       "50%      0.580796    0.464653    0.145865    0.000000\n",
       "75%      0.793114    0.759367    0.221285    0.000000\n",
       "max      1.000000    1.000000    1.000000    1.000000"
      ]
     },
     "execution_count": 10,
     "metadata": {},
     "output_type": "execute_result"
    }
   ],
   "source": [
    "raw_df = pd.read_csv('places.csv')\n",
    "#shuffel the places\n",
    "raw_df = raw_df.sample(frac=1).reset_index(drop=True)\n",
    "\n",
    "df = min_max_normalize(raw_df)\n",
    "\n",
    "\n",
    "\n",
    "#df['notMatch'] = [int (not isMatch) for isMatch in df['isMatch']]\n",
    "inputMatrix = df[['lat', 'lng']].as_matrix()\n",
    "target = df['isMatch'].as_matrix()\n",
    "\n",
    "df.describe()"
   ]
  },
  {
   "cell_type": "markdown",
   "metadata": {},
   "source": [
    "# Visualize the Data"
   ]
  },
  {
   "cell_type": "code",
   "execution_count": 8,
   "metadata": {},
   "outputs": [
    {
     "data": {
      "image/png": "[encoded data removed]",
      "text/plain": [
       "<matplotlib.figure.Figure at 0x1792d550898>"
      ]
     },
     "metadata": {},
     "output_type": "display_data"
    },
    {
     "data": {
      "application/vnd.jupyter.widget-view+json": {
       "model_id": "63518a91e1174b6fa0ae4ad69cd0a96d"
      }
     },
     "metadata": {},
     "output_type": "display_data"
    }
   ],
   "source": [
    "df.hist()\n",
    "plt.show()\n",
    "\n",
    "map = Map(center=[raw_df.lat.mean(), raw_df.lng.mean()], zoom=17)\n",
    "\n",
    "for index, row in raw_df.iterrows():\n",
    "    addPoint(map, lat=row.lat, lng=row.lng, isMatch=row.isMatch)\n",
    "\n",
    "map"
   ]
  },
  {
   "cell_type": "markdown",
   "metadata": {},
   "source": [
    "# Train the Model"
   ]
  },
  {
   "cell_type": "code",
   "execution_count": 6,
   "metadata": {
    "collapsed": true
   },
   "outputs": [],
   "source": [
    "def get_model():\n",
    "    model = Sequential()\n",
    "    model.add(Dense(10, input_dim=2, activation='relu'))\n",
    "    model.add(Dense(10, activation='relu'))\n",
    "    model.add(Dense(1, activation='sigmoid'))\n",
    "\n",
    "    model.compile(loss='binary_crossentropy', optimizer='adam', metrics=['accuracy'])\n",
    "\n",
    "    return model"
   ]
  },
  {
   "cell_type": "code",
   "execution_count": 20,
   "metadata": {
    "scrolled": true
   },
   "outputs": [
    {
     "data": {
      "image/png": "[encoded data removed]",
      "text/plain": [
       "<matplotlib.figure.Figure at 0x26685a82ac8>"
      ]
     },
     "metadata": {},
     "output_type": "display_data"
    },
    {
     "name": "stdout",
     "output_type": "stream",
     "text": [
      "Accuracy: 98.04%\n"
     ]
    }
   ],
   "source": [
    "model = get_model()\n",
    "\n",
    "weights = {0: df.isMatch.mean(), 1: (1 - df.isMatch.mean())}\n",
    "\n",
    "training_data = model.fit(inputMatrix, target, validation_split=0.3, epochs=200, batch_size=10, class_weight=weights, verbose=False)\n",
    "\n",
    "fig, axis = plt.subplots(1,2)\n",
    "fig.set_size_inches(14, 4.5)\n",
    "axis[0].plot(training_data.history['val_loss'], 'g', training_data.history['loss'], 'r')\n",
    "axis[0].set_xlabel('Epochs')\n",
    "axis[0].set_ylabel('Loss')\n",
    "axis[1].plot(training_data.history['val_acc'], 'g', training_data.history['acc'], 'r')\n",
    "axis[1].set_xlabel('Epochs')\n",
    "axis[1].set_ylabel('Accuracy')\n",
    "plt.show()\n",
    "\n",
    "print('Accuracy: %.2f%%' % (training_data.history['val_acc'][-1]*100))"
   ]
  },
  {
   "cell_type": "markdown",
   "metadata": {},
   "source": [
    "# Measure Performance\n",
    "K-Fold Cross Validation"
   ]
  },
  {
   "cell_type": "code",
   "execution_count": 14,
   "metadata": {
    "scrolled": false
   },
   "outputs": [
    {
     "name": "stdout",
     "output_type": "stream",
     "text": [
      "Accuracy: 95.83% (4.05%)\n"
     ]
    }
   ],
   "source": [
    "estimator = KerasClassifier(build_fn=get_model, epochs=200, batch_size=10, verbose=0)\n",
    "kfold = StratifiedKFold(n_splits=5, shuffle=True)\n",
    "results = cross_val_score(estimator, inputMatrix, target, cv=kfold)\n",
    "print('Accuracy: %.2f%% (%.2f%%)' % (results.mean()*100, results.std()*100))"
   ]
  },
  {
   "cell_type": "markdown",
   "metadata": {},
   "source": [
    "# Visualize the Model"
   ]
  },
  {
   "cell_type": "code",
   "execution_count": 15,
   "metadata": {},
   "outputs": [
    {
     "data": {
      "application/vnd.jupyter.widget-view+json": {
       "model_id": "09a8c45494f74a85bd85c34c02fc3a00"
      }
     },
     "metadata": {},
     "output_type": "display_data"
    }
   ],
   "source": [
    "map = Map(center=[raw_df.lat.mean(), raw_df.lng.mean()], zoom=17)\n",
    "\n",
    "for index, input_row in enumerate(inputMatrix):\n",
    "    predicted_match = model.predict(np.array([input_row])) > 0.5;\n",
    "    raw_row = raw_df.loc[index]\n",
    "    addPoint(map, lat=raw_row.lat, lng=raw_row.lng, isMatch=raw_row.isMatch, predicted_match=predicted_match)\n",
    "\n",
    "map"
   ]
  }
 ],
 "metadata": {
  "kernelspec": {
   "display_name": "Python 3",
   "language": "python",
   "name": "python3"
  },
  "language_info": {
   "codemirror_mode": {
    "name": "ipython",
    "version": 3
   },
   "file_extension": ".py",
   "mimetype": "text/x-python",
   "name": "python",
   "nbconvert_exporter": "python",
   "pygments_lexer": "ipython3",
   "version": "3.5.2"
  }
 },
 "nbformat": 4,
 "nbformat_minor": 1
}
