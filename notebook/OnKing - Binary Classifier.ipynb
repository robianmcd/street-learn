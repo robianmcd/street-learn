{
 "cells": [
  {
   "cell_type": "code",
   "execution_count": 2,
   "metadata": {
    "scrolled": false
   },
   "outputs": [
    {
     "name": "stderr",
     "output_type": "stream",
     "text": [
      "Using TensorFlow backend.\n"
     ]
    }
   ],
   "source": [
    "import os\n",
    "os.environ['TF_CPP_MIN_LOG_LEVEL']='2'\n",
    "import pandas as pd\n",
    "import matplotlib.pyplot as plt\n",
    "from keras.models import Sequential\n",
    "from keras.layers import Dense\n",
    "from keras.wrappers.scikit_learn import KerasClassifier\n",
    "from sklearn.model_selection import cross_val_score\n",
    "from sklearn.model_selection import StratifiedKFold\n",
    "import numpy as np\n",
    "import random\n",
    "from ipyleaflet import Map, Circle\n",
    "import seaborn as sns\n",
    "sns.set()\n",
    "from IPython.display import display"
   ]
  },
  {
   "cell_type": "code",
   "execution_count": 3,
   "metadata": {
    "collapsed": true
   },
   "outputs": [],
   "source": [
    "def min_max_normalize(series):\n",
    "    return (series - series.min()) / (series.max()-series.min())\n",
    "\n",
    "def addPoint(map, lat, lng, isMatch, predicted_match=None):\n",
    "    if not (predicted_match is None) and predicted_match != isMatch:\n",
    "        color = '#f44'\n",
    "    else:\n",
    "        color = '#44F' if isMatch else '#999'\n",
    "        \n",
    "    map.add_layer(Circle(location=[lat, lng], radius=8, color=color, opacity=.7, fill_opacity=.7, fill_color=color))"
   ]
  },
  {
   "cell_type": "markdown",
   "metadata": {},
   "source": [
    "# Prepare the Data"
   ]
  },
  {
   "cell_type": "code",
   "execution_count": 27,
   "metadata": {
    "scrolled": false
   },
   "outputs": [
    {
     "data": {
      "text/html": [
       "<div>\n",
       "<style>\n",
       "    .dataframe thead tr:only-child th {\n",
       "        text-align: right;\n",
       "    }\n",
       "\n",
       "    .dataframe thead th {\n",
       "        text-align: left;\n",
       "    }\n",
       "\n",
       "    .dataframe tbody tr th {\n",
       "        vertical-align: top;\n",
       "    }\n",
       "</style>\n",
       "<table border=\"1\" class=\"dataframe\">\n",
       "  <thead>\n",
       "    <tr style=\"text-align: right;\">\n",
       "      <th></th>\n",
       "      <th>lat</th>\n",
       "      <th>lng</th>\n",
       "      <th>heading</th>\n",
       "      <th>isMatch</th>\n",
       "    </tr>\n",
       "  </thead>\n",
       "  <tbody>\n",
       "    <tr>\n",
       "      <th>count</th>\n",
       "      <td>67.000000</td>\n",
       "      <td>67.000000</td>\n",
       "      <td>67.000000</td>\n",
       "      <td>67.000000</td>\n",
       "    </tr>\n",
       "    <tr>\n",
       "      <th>mean</th>\n",
       "      <td>0.585557</td>\n",
       "      <td>0.484541</td>\n",
       "      <td>0.290646</td>\n",
       "      <td>0.194030</td>\n",
       "    </tr>\n",
       "    <tr>\n",
       "      <th>std</th>\n",
       "      <td>0.288853</td>\n",
       "      <td>0.279995</td>\n",
       "      <td>0.340512</td>\n",
       "      <td>0.398437</td>\n",
       "    </tr>\n",
       "    <tr>\n",
       "      <th>min</th>\n",
       "      <td>0.000000</td>\n",
       "      <td>0.000000</td>\n",
       "      <td>0.000000</td>\n",
       "      <td>0.000000</td>\n",
       "    </tr>\n",
       "    <tr>\n",
       "      <th>25%</th>\n",
       "      <td>0.302629</td>\n",
       "      <td>0.247103</td>\n",
       "      <td>0.008798</td>\n",
       "      <td>0.000000</td>\n",
       "    </tr>\n",
       "    <tr>\n",
       "      <th>50%</th>\n",
       "      <td>0.637505</td>\n",
       "      <td>0.464193</td>\n",
       "      <td>0.148613</td>\n",
       "      <td>0.000000</td>\n",
       "    </tr>\n",
       "    <tr>\n",
       "      <th>75%</th>\n",
       "      <td>0.877357</td>\n",
       "      <td>0.646370</td>\n",
       "      <td>0.255589</td>\n",
       "      <td>0.000000</td>\n",
       "    </tr>\n",
       "    <tr>\n",
       "      <th>max</th>\n",
       "      <td>1.000000</td>\n",
       "      <td>1.000000</td>\n",
       "      <td>1.000000</td>\n",
       "      <td>1.000000</td>\n",
       "    </tr>\n",
       "  </tbody>\n",
       "</table>\n",
       "</div>"
      ],
      "text/plain": [
       "             lat        lng    heading    isMatch\n",
       "count  67.000000  67.000000  67.000000  67.000000\n",
       "mean    0.585557   0.484541   0.290646   0.194030\n",
       "std     0.288853   0.279995   0.340512   0.398437\n",
       "min     0.000000   0.000000   0.000000   0.000000\n",
       "25%     0.302629   0.247103   0.008798   0.000000\n",
       "50%     0.637505   0.464193   0.148613   0.000000\n",
       "75%     0.877357   0.646370   0.255589   0.000000\n",
       "max     1.000000   1.000000   1.000000   1.000000"
      ]
     },
     "execution_count": 27,
     "metadata": {},
     "output_type": "execute_result"
    }
   ],
   "source": [
    "raw_df = pd.read_csv('places.csv')\n",
    "#shuffel the places\n",
    "raw_df = raw_df.sample(frac=0.4).reset_index(drop=True)\n",
    "\n",
    "## Generate more data\n",
    "# for index, row in raw_df.iterrows():\n",
    "#     for i in range(4):\n",
    "#         raw_df.loc[len(raw_df)] = [\n",
    "#             row['lat'] + random.uniform(-2/100000, 2/100000),\n",
    "#             row['lng'] + random.uniform(-2/100000, 2/100000),\n",
    "#             row['heading'] + random.uniform(-1, 1),\n",
    "#             row['isMatch']\n",
    "#         ]\n",
    "\n",
    "df = min_max_normalize(raw_df)\n",
    "\n",
    "#df['notMatch'] = [int (not isMatch) for isMatch in df['isMatch']]\n",
    "inputMatrix = df[['lat', 'lng', 'heading']].as_matrix()\n",
    "target = df['isMatch'].as_matrix()\n",
    "\n",
    "df.describe()"
   ]
  },
  {
   "cell_type": "markdown",
   "metadata": {},
   "source": [
    "# Visualize the Data"
   ]
  },
  {
   "cell_type": "code",
   "execution_count": 28,
   "metadata": {},
   "outputs": [
    {
     "data": {
      "image/png": "[encoded data removed]",
      "text/plain": [
       "<matplotlib.figure.Figure at 0x1d84530c5f8>"
      ]
     },
     "metadata": {},
     "output_type": "display_data"
    },
    {
     "data": {
      "application/vnd.jupyter.widget-view+json": {
       "model_id": "72f8e02d67294689b30120652b8b1bcb"
      }
     },
     "metadata": {},
     "output_type": "display_data"
    }
   ],
   "source": [
    "df.hist()\n",
    "plt.show()\n",
    "\n",
    "map = Map(center=[raw_df.lat.mean(), raw_df.lng.mean()], zoom=17)\n",
    "\n",
    "for index, row in raw_df.iterrows():\n",
    "    addPoint(map, lat=row.lat, lng=row.lng, isMatch=row.isMatch)\n",
    "\n",
    "map"
   ]
  },
  {
   "cell_type": "markdown",
   "metadata": {},
   "source": [
    "# Train the Model"
   ]
  },
  {
   "cell_type": "code",
   "execution_count": 9,
   "metadata": {
    "collapsed": true
   },
   "outputs": [],
   "source": [
    "def get_model():\n",
    "    model = Sequential()\n",
    "    model.add(Dense(30, input_dim=len(inputMatrix[0]), activation='relu'))\n",
    "    model.add(Dense(30, activation='relu'))\n",
    "    model.add(Dense(30, activation='relu'))\n",
    "    model.add(Dense(30, activation='relu'))\n",
    "    model.add(Dense(1, activation='sigmoid'))\n",
    "\n",
    "    model.compile(loss='binary_crossentropy', optimizer='adam', metrics=['accuracy'])\n",
    "\n",
    "    return model"
   ]
  },
  {
   "cell_type": "code",
   "execution_count": 32,
   "metadata": {
    "scrolled": true
   },
   "outputs": [
    {
     "data": {
      "image/png": "[encoded data removed]",
      "text/plain": [
       "<matplotlib.figure.Figure at 0x1d849b30c50>"
      ]
     },
     "metadata": {},
     "output_type": "display_data"
    },
    {
     "name": "stdout",
     "output_type": "stream",
     "text": [
      "Accuracy: 91.18%\n"
     ]
    }
   ],
   "source": [
    "model = get_model()\n",
    "\n",
    "weights = {0: df.isMatch.mean(), 1: (1 - df.isMatch.mean())}\n",
    "\n",
    "training_data = model.fit(inputMatrix, target, validation_split=0.5, epochs=300, batch_size=4, class_weight=weights, verbose=False)\n",
    "\n",
    "fig, axis = plt.subplots(1,2)\n",
    "fig.set_size_inches(14, 4.5)\n",
    "axis[0].plot(training_data.history['val_loss'], 'g', training_data.history['loss'], 'r')\n",
    "axis[0].set_xlabel('Epochs')\n",
    "axis[0].set_ylabel('Loss')\n",
    "axis[1].plot(training_data.history['val_acc'], 'g', training_data.history['acc'], 'r')\n",
    "axis[1].set_xlabel('Epochs')\n",
    "axis[1].set_ylabel('Accuracy')\n",
    "plt.show()\n",
    "\n",
    "print('Accuracy: %.2f%%' % (training_data.history['val_acc'][-1]*100))"
   ]
  },
  {
   "cell_type": "markdown",
   "metadata": {},
   "source": [
    "# Measure Performance\n",
    "K-Fold Cross Validation"
   ]
  },
  {
   "cell_type": "code",
   "execution_count": 7,
   "metadata": {
    "scrolled": false
   },
   "outputs": [
    {
     "name": "stdout",
     "output_type": "stream",
     "text": [
      "Accuracy: 100.00% (0.00%)\n"
     ]
    }
   ],
   "source": [
    "estimator = KerasClassifier(build_fn=get_model, epochs=200, batch_size=10, verbose=0)\n",
    "kfold = StratifiedKFold(n_splits=5, shuffle=True)\n",
    "results = cross_val_score(estimator, inputMatrix, target, cv=kfold)\n",
    "print('Accuracy: %.2f%% (%.2f%%)' % (results.mean()*100, results.std()*100))"
   ]
  },
  {
   "cell_type": "markdown",
   "metadata": {},
   "source": [
    "# Visualize the Model"
   ]
  },
  {
   "cell_type": "code",
   "execution_count": 9,
   "metadata": {},
   "outputs": [
    {
     "name": "stderr",
     "output_type": "stream",
     "text": [
      "Widget Javascript not detected.  It may not be installed or enabled properly.\n"
     ]
    },
    {
     "data": {
      "application/vnd.jupyter.widget-view+json": {
       "model_id": "d593b52d3e7e403da7d007517cbf07d3"
      }
     },
     "metadata": {},
     "output_type": "display_data"
    }
   ],
   "source": [
    "map = Map(center=[raw_df.lat.mean(), raw_df.lng.mean()], zoom=17)\n",
    "\n",
    "for index, input_row in enumerate(inputMatrix):\n",
    "    predicted_match = model.predict(np.array([input_row])) > 0.5;\n",
    "    raw_row = raw_df.loc[index]\n",
    "    addPoint(map, lat=raw_row.lat, lng=raw_row.lng, isMatch=raw_row.isMatch, predicted_match=predicted_match)\n",
    "\n",
    "map"
   ]
  }
 ],
 "metadata": {
  "kernelspec": {
   "display_name": "Python 3",
   "language": "python",
   "name": "python3"
  },
  "language_info": {
   "codemirror_mode": {
    "name": "ipython",
    "version": 3
   },
   "file_extension": ".py",
   "mimetype": "text/x-python",
   "name": "python",
   "nbconvert_exporter": "python",
   "pygments_lexer": "ipython3",
   "version": "3.5.0"
  }
 },
 "nbformat": 4,
 "nbformat_minor": 1
}
