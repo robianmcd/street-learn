{
 "cells": [
  {
   "cell_type": "code",
   "execution_count": null,
   "metadata": {
    "collapsed": true,
    "scrolled": true
   },
   "outputs": [],
   "source": [
    "###############################################################################\n",
    "# Imports\n",
    "###############################################################################\n",
    "\n",
    "import matplotlib.pyplot as plt\n",
    "from keras.models import Sequential\n",
    "from keras.layers import Dense\n",
    "import numpy as np"
   ]
  },
  {
   "cell_type": "code",
   "execution_count": null,
   "metadata": {
    "collapsed": true,
    "scrolled": true
   },
   "outputs": [],
   "source": [
    "###############################################################################\n",
    "# Data\n",
    "###############################################################################\n",
    "\n",
    "houses = np.array([\n",
    "    [.4, 1.0],\n",
    "    [.3, .7],\n",
    "    [.5, .3],\n",
    "    [.2, .0],\n",
    "    [.7, 1.8],\n",
    "    [.5, .6],\n",
    "    [.4, .0],\n",
    "    [.3, .0],\n",
    "    [.5, .3],\n",
    "    [.3, .7],\n",
    "    [.5, 1.0],\n",
    "    [.4, .7],\n",
    "    [.6, .3],\n",
    "    [.3, .0],\n",
    "    [.8, 1.8],\n",
    "    [.6, .6],\n",
    "    [.5, .0],\n",
    "    [.4, .0],\n",
    "    [.6, .3],\n",
    "    [.4, .7]\n",
    "])\n",
    "\n",
    "prices = np.array([\n",
    "    0.198,\n",
    "    0.160,\n",
    "    0.436,\n",
    "    0.306,\n",
    "    0.344,\n",
    "    0.376,\n",
    "    0.597,\n",
    "    0.446,\n",
    "    0.441,\n",
    "    0.150,\n",
    "    0.293,\n",
    "    0.270,\n",
    "    0.532,\n",
    "    0.457,\n",
    "    0.444,\n",
    "    0.476,\n",
    "    0.747,\n",
    "    0.596,\n",
    "    0.541,\n",
    "    0.250\n",
    "])"
   ]
  },
  {
   "cell_type": "code",
   "execution_count": null,
   "metadata": {
    "collapsed": true,
    "scrolled": true
   },
   "outputs": [],
   "source": [
    "###############################################################################\n",
    "## Create Network\n",
    "###############################################################################\n",
    "\n",
    "# 1. Network topology\n",
    "# - Input layer: 2 nodes (rooms, age)\n",
    "# - Hidden Layer: 2 nodes with relu activation\n",
    "# - Output Layer: 1 node (price)\n",
    "\n",
    "\n",
    "# 2. Configure\n",
    "# - Optimization Algorithm: adam\n",
    "# - Loss Function: mean_absolute_error\n",
    "\n",
    "\n",
    "\n",
    "###############################################################################\n",
    "# Train Network\n",
    "###############################################################################\n",
    "\n",
    "# 1. fit the data\n",
    "# - configure epochs\n",
    "\n",
    "\n",
    "# 2. print the accuracy\n",
    "print('Average loss: $' + str(0))"
   ]
  },
  {
   "cell_type": "code",
   "execution_count": null,
   "metadata": {
    "collapsed": true
   },
   "outputs": [],
   "source": [
    "###############################################################################\n",
    "# Make Predictions\n",
    "###############################################################################\n",
    "p = model.predict(houses)[:,0]"
   ]
  },
  {
   "cell_type": "code",
   "execution_count": null,
   "metadata": {
    "collapsed": true
   },
   "outputs": [],
   "source": [
    "###############################################################################\n",
    "# Visualize results\n",
    "###############################################################################\n",
    "\n",
    "# 1. Plot predictions against actual results\n",
    "\n",
    "plt.show()"
   ]
  },
  {
   "cell_type": "code",
   "execution_count": null,
   "metadata": {
    "collapsed": true
   },
   "outputs": [],
   "source": [
    "# 2. Plot predictions against actual results\n",
    "\n",
    "plt.show()"
   ]
  }
 ],
 "metadata": {
  "kernelspec": {
   "display_name": "Python 3",
   "language": "python",
   "name": "python3"
  },
  "language_info": {
   "codemirror_mode": {
    "name": "ipython",
    "version": 3
   },
   "file_extension": ".py",
   "mimetype": "text/x-python",
   "name": "python",
   "nbconvert_exporter": "python",
   "pygments_lexer": "ipython3",
   "version": "3.5.0"
  }
 },
 "nbformat": 4,
 "nbformat_minor": 2
}
