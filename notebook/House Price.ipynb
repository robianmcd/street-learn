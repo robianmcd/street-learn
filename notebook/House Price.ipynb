{
 "cells": [
  {
   "cell_type": "code",
   "execution_count": 177,
   "metadata": {},
   "outputs": [],
   "source": [
    "import os\n",
    "os.environ['TF_CPP_MIN_LOG_LEVEL']='2'\n",
    "import matplotlib.pyplot as plt\n",
    "from keras.models import Sequential\n",
    "from keras.layers import Dense\n",
    "import numpy as np"
   ]
  },
  {
   "cell_type": "code",
   "execution_count": 196,
   "metadata": {
    "scrolled": true
   },
   "outputs": [
    {
     "name": "stdout",
     "output_type": "stream",
     "text": [
      "Average error of $6666\n"
     ]
    }
   ],
   "source": [
    "houses = np.array([\n",
    "    [.4, 1.0],\n",
    "    [.3, .7],\n",
    "    [.5, .3],\n",
    "    [.2, .0],\n",
    "    [.7, 1.8],\n",
    "    [.5, .6],\n",
    "    [.4, .0],\n",
    "    [.3, .0],\n",
    "    [.5, .3],\n",
    "    [.3, .7],\n",
    "    [.5, 1.0],\n",
    "    [.4, .7],\n",
    "    [.6, .3],\n",
    "    [.3, .0],\n",
    "    [.8, 1.8],\n",
    "    [.6, .6],\n",
    "    [.5, .0],\n",
    "    [.4, .0],\n",
    "    [.6, .3],\n",
    "    [.4, .7]\n",
    "])\n",
    "\n",
    "prices = np.array([\n",
    "    0.193,\n",
    "    0.170,\n",
    "    0.432,\n",
    "    0.307,\n",
    "    0.344,\n",
    "    0.376,\n",
    "    0.597,\n",
    "    0.446,\n",
    "    0.441,\n",
    "    0.150,\n",
    "    0.293,\n",
    "    0.270,\n",
    "    0.532,\n",
    "    0.457,\n",
    "    0.444,\n",
    "    0.476,\n",
    "    0.747,\n",
    "    0.596,\n",
    "    0.541,\n",
    "    0.250\n",
    "])\n",
    "\n",
    "model = Sequential()\n",
    "model.add(Dense(2, activation='relu', input_dim=2))\n",
    "model.add(Dense(1))\n",
    "\n",
    "model.compile(optimizer='adam', loss='mean_squared_error')\n",
    "\n",
    "train_data = model.fit(houses, prices, epochs=500, verbose=False)\n",
    "\n",
    "loss = train_data.history['loss'][-1]\n",
    "print('Average error of $' + str(int(loss ** 0.5 * 100000)))"
   ]
  },
  {
   "cell_type": "code",
   "execution_count": 197,
   "metadata": {
    "scrolled": true
   },
   "outputs": [],
   "source": [
    "predicted_prices = model.predict(houses)"
   ]
  },
  {
   "cell_type": "code",
   "execution_count": 198,
   "metadata": {
    "scrolled": true
   },
   "outputs": [
    {
     "data": {
      "image/png": "[encoded data removed]",
      "text/plain": [
       "<matplotlib.figure.Figure at 0x1d403570be0>"
      ]
     },
     "metadata": {},
     "output_type": "display_data"
    }
   ],
   "source": [
    "errors = np.absolute(prices - predicted_prices[:,0])\n",
    "plt.bar(range(20), prices, yerr=errors)\n",
    "plt.show()"
   ]
  }
 ],
 "metadata": {
  "kernelspec": {
   "display_name": "Python 3",
   "language": "python",
   "name": "python3"
  },
  "language_info": {
   "codemirror_mode": {
    "name": "ipython",
    "version": 3
   },
   "file_extension": ".py",
   "mimetype": "text/x-python",
   "name": "python",
   "nbconvert_exporter": "python",
   "pygments_lexer": "ipython3",
   "version": "3.5.2"
  }
 },
 "nbformat": 4,
 "nbformat_minor": 2
}
