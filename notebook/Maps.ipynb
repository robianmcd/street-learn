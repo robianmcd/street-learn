{
 "cells": [
  {
   "cell_type": "code",
   "execution_count": null,
   "metadata": {
    "scrolled": false
   },
   "outputs": [],
   "source": [
    "from ipyleaflet import (\n",
    "    Map,\n",
    "    Marker,\n",
    "    TileLayer, ImageOverlay,\n",
    "    Polyline, Polygon, Rectangle, Circle, CircleMarker,\n",
    "    GeoJSON,\n",
    "    DrawControl, \n",
    "    Control, Unicode, Instance, FeatureGroup, widget_serialization\n",
    ")\n",
    "\n",
    "map = Map(center=[43.645148, -79.396298], zoom=16)\n",
    "map.add_layer(Circle(location=[43.645011, -79.396110], radius=10, color='#F00'))\n",
    "map.add_layer(Circle(location=[43.645011, -79.395110], radius=10, color='#0F0'))\n",
    "map.add_layer(Circle(location=[43.645011, -79.394110], radius=10, color='#FF0', opacity=.7, fill_opacity=.7, fill_color='#FF0'))\n",
    "\n",
    "map"
   ]
  },
  {
   "cell_type": "code",
   "execution_count": null,
   "metadata": {
    "collapsed": true
   },
   "outputs": [],
   "source": []
  }
 ],
 "metadata": {
  "kernelspec": {
   "display_name": "Python 3",
   "language": "python",
   "name": "python3"
  },
  "language_info": {
   "codemirror_mode": {
    "name": "ipython",
    "version": 3
   },
   "file_extension": ".py",
   "mimetype": "text/x-python",
   "name": "python",
   "nbconvert_exporter": "python",
   "pygments_lexer": "ipython3",
   "version": "3.5.2"
  }
 },
 "nbformat": 4,
 "nbformat_minor": 2
}
